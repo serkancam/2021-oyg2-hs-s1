{
 "cells": [
  {
   "cell_type": "code",
   "execution_count": 3,
   "metadata": {},
   "outputs": [],
   "source": [
    "import numpy as np\n",
    "import pandas as pd\n",
    "import matplotlib.pyplot as plt\n",
    "import seaborn as sns\n",
    "from sklearn.impute import SimpleImputer\n",
    "from sklearn.preprocessing import minmax_scale,LabelEncoder\n",
    "from sklearn.metrics import confusion_matrix\n",
    "from sklearn.model_selection import train_test_split\n",
    "from sklearn.neighbors import KNeighborsClassifier"
   ]
  },
  {
   "cell_type": "code",
   "execution_count": 4,
   "metadata": {},
   "outputs": [
    {
     "name": "stdout",
     "output_type": "stream",
     "text": [
      "<class 'pandas.core.frame.DataFrame'>\n",
      "RangeIndex: 303 entries, 0 to 302\n",
      "Data columns (total 14 columns):\n",
      " #   Column                  Non-Null Count  Dtype  \n",
      "---  ------                  --------------  -----  \n",
      " 0   yas                     303 non-null    float64\n",
      " 1   cinsiyet                303 non-null    object \n",
      " 2   gogus_agrisi_tipi       303 non-null    object \n",
      " 3   hareketsiz_kan_basinci  303 non-null    float64\n",
      " 4   serum_kolestrol         303 non-null    float64\n",
      " 5   aclik_kan_sekeri        303 non-null    int64  \n",
      " 6   elektrokardiyografi     303 non-null    object \n",
      " 7   en_yuksek_kalp_hizi     303 non-null    float64\n",
      " 8   anjin_bagli_egsersiz    303 non-null    int64  \n",
      " 9   st_depresyonu           303 non-null    float64\n",
      " 10  st_egimi                303 non-null    object \n",
      " 11  buyuk_damarlar          299 non-null    float64\n",
      " 12  talasemi                301 non-null    object \n",
      " 13  kalp_rahatsizligi       303 non-null    int64  \n",
      "dtypes: float64(6), int64(3), object(5)\n",
      "memory usage: 33.3+ KB\n"
     ]
    }
   ],
   "source": [
    "data = pd.read_csv(\"veri_setleri/kalp_rahatsizligi.csv\",sep=\",\")\n",
    "data.info()"
   ]
  },
  {
   "cell_type": "code",
   "execution_count": 5,
   "metadata": {},
   "outputs": [
    {
     "data": {
      "text/html": [
       "<div>\n",
       "<style scoped>\n",
       "    .dataframe tbody tr th:only-of-type {\n",
       "        vertical-align: middle;\n",
       "    }\n",
       "\n",
       "    .dataframe tbody tr th {\n",
       "        vertical-align: top;\n",
       "    }\n",
       "\n",
       "    .dataframe thead th {\n",
       "        text-align: right;\n",
       "    }\n",
       "</style>\n",
       "<table border=\"1\" class=\"dataframe\">\n",
       "  <thead>\n",
       "    <tr style=\"text-align: right;\">\n",
       "      <th></th>\n",
       "      <th>yas</th>\n",
       "      <th>cinsiyet</th>\n",
       "      <th>gogus_agrisi_tipi</th>\n",
       "      <th>hareketsiz_kan_basinci</th>\n",
       "      <th>serum_kolestrol</th>\n",
       "      <th>aclik_kan_sekeri</th>\n",
       "      <th>elektrokardiyografi</th>\n",
       "      <th>en_yuksek_kalp_hizi</th>\n",
       "      <th>anjin_bagli_egsersiz</th>\n",
       "      <th>st_depresyonu</th>\n",
       "      <th>st_egimi</th>\n",
       "      <th>buyuk_damarlar</th>\n",
       "      <th>talasemi</th>\n",
       "      <th>kalp_rahatsizligi</th>\n",
       "    </tr>\n",
       "  </thead>\n",
       "  <tbody>\n",
       "    <tr>\n",
       "      <th>0</th>\n",
       "      <td>63.0</td>\n",
       "      <td>erkek</td>\n",
       "      <td>tipik anjinal</td>\n",
       "      <td>145.0</td>\n",
       "      <td>233.0</td>\n",
       "      <td>1</td>\n",
       "      <td>sol ventikuler hipertrofi</td>\n",
       "      <td>150.0</td>\n",
       "      <td>0</td>\n",
       "      <td>2.3</td>\n",
       "      <td>asagi egimli</td>\n",
       "      <td>0.0</td>\n",
       "      <td>sabit defekt</td>\n",
       "      <td>0</td>\n",
       "    </tr>\n",
       "    <tr>\n",
       "      <th>1</th>\n",
       "      <td>67.0</td>\n",
       "      <td>erkek</td>\n",
       "      <td>asemptomatik</td>\n",
       "      <td>160.0</td>\n",
       "      <td>286.0</td>\n",
       "      <td>0</td>\n",
       "      <td>sol ventikuler hipertrofi</td>\n",
       "      <td>108.0</td>\n",
       "      <td>1</td>\n",
       "      <td>1.5</td>\n",
       "      <td>duz</td>\n",
       "      <td>3.0</td>\n",
       "      <td>normal</td>\n",
       "      <td>1</td>\n",
       "    </tr>\n",
       "    <tr>\n",
       "      <th>2</th>\n",
       "      <td>67.0</td>\n",
       "      <td>erkek</td>\n",
       "      <td>asemptomatik</td>\n",
       "      <td>120.0</td>\n",
       "      <td>229.0</td>\n",
       "      <td>0</td>\n",
       "      <td>sol ventikuler hipertrofi</td>\n",
       "      <td>129.0</td>\n",
       "      <td>1</td>\n",
       "      <td>2.6</td>\n",
       "      <td>duz</td>\n",
       "      <td>2.0</td>\n",
       "      <td>tersinir defekt</td>\n",
       "      <td>1</td>\n",
       "    </tr>\n",
       "  </tbody>\n",
       "</table>\n",
       "</div>"
      ],
      "text/plain": [
       "    yas cinsiyet gogus_agrisi_tipi  hareketsiz_kan_basinci  serum_kolestrol  \\\n",
       "0  63.0    erkek     tipik anjinal                   145.0            233.0   \n",
       "1  67.0    erkek      asemptomatik                   160.0            286.0   \n",
       "2  67.0    erkek      asemptomatik                   120.0            229.0   \n",
       "\n",
       "   aclik_kan_sekeri        elektrokardiyografi  en_yuksek_kalp_hizi  \\\n",
       "0                 1  sol ventikuler hipertrofi                150.0   \n",
       "1                 0  sol ventikuler hipertrofi                108.0   \n",
       "2                 0  sol ventikuler hipertrofi                129.0   \n",
       "\n",
       "   anjin_bagli_egsersiz  st_depresyonu      st_egimi  buyuk_damarlar  \\\n",
       "0                     0            2.3  asagi egimli             0.0   \n",
       "1                     1            1.5           duz             3.0   \n",
       "2                     1            2.6           duz             2.0   \n",
       "\n",
       "          talasemi  kalp_rahatsizligi  \n",
       "0     sabit defekt                  0  \n",
       "1           normal                  1  \n",
       "2  tersinir defekt                  1  "
      ]
     },
     "execution_count": 5,
     "metadata": {},
     "output_type": "execute_result"
    }
   ],
   "source": [
    "data.head(3)"
   ]
  },
  {
   "cell_type": "code",
   "execution_count": 6,
   "metadata": {},
   "outputs": [
    {
     "name": "stdout",
     "output_type": "stream",
     "text": [
      "<class 'pandas.core.frame.DataFrame'>\n",
      "RangeIndex: 303 entries, 0 to 302\n",
      "Data columns (total 14 columns):\n",
      " #   Column             Non-Null Count  Dtype  \n",
      "---  ------             --------------  -----  \n",
      " 0   yas                303 non-null    float64\n",
      " 1   cinsiyet           303 non-null    object \n",
      " 2   gat                303 non-null    object \n",
      " 3   hkb                303 non-null    float64\n",
      " 4   kolestrol          303 non-null    float64\n",
      " 5   aks                303 non-null    int64  \n",
      " 6   ekg                303 non-null    object \n",
      " 7   eykh               303 non-null    float64\n",
      " 8   abe                303 non-null    int64  \n",
      " 9   st_d               303 non-null    float64\n",
      " 10  ste                303 non-null    object \n",
      " 11  bds                299 non-null    float64\n",
      " 12  talasemi           301 non-null    object \n",
      " 13  kalp_rahatsizligi  303 non-null    int64  \n",
      "dtypes: float64(6), int64(3), object(5)\n",
      "memory usage: 33.3+ KB\n"
     ]
    }
   ],
   "source": [
    "data.rename(columns={\"gogus_agrisi_tipi\":\"gat\",\n",
    "\"hareketsiz_kan_basinci\":\"hkb\",\n",
    "\"serum_kolestrol\":\"kolestrol\",\n",
    "\"aclik_kan_sekeri\":\"aks\",\n",
    "\"elektrokardiyografi\":\"ekg\",\n",
    "\"en_yuksek_kalp_hizi\":\"eykh\",\n",
    "\"anjin_bagli_egsersiz\":\"abe\",  \n",
    "\"st_depresyonu\":\"st_d\",\n",
    "\"st_egimi\":\"ste\",\n",
    "\"buyuk_damarlar\":\"bds\"}, inplace=True)\n",
    "data.info()"
   ]
  },
  {
   "cell_type": "markdown",
   "metadata": {},
   "source": [
    "Şu anda aşağıda veri önişleme adımları yapıalcak ilk önce eksik olan veriler problemi çözülecek."
   ]
  },
  {
   "cell_type": "code",
   "execution_count": 7,
   "metadata": {},
   "outputs": [],
   "source": [
    "imp = SimpleImputer(missing_values=np.nan,strategy=\"most_frequent\")\n",
    "bds = data.iloc[:,[11]].values\n",
    "tal = data.iloc[:,[12]].values\n",
    "data[\"bds\"]=imp.fit_transform(bds)\n",
    "data[\"talasemi\"]=imp.fit_transform(tal)"
   ]
  },
  {
   "cell_type": "code",
   "execution_count": 8,
   "metadata": {},
   "outputs": [
    {
     "name": "stdout",
     "output_type": "stream",
     "text": [
      "<class 'pandas.core.frame.DataFrame'>\n",
      "RangeIndex: 303 entries, 0 to 302\n",
      "Data columns (total 14 columns):\n",
      " #   Column             Non-Null Count  Dtype  \n",
      "---  ------             --------------  -----  \n",
      " 0   yas                303 non-null    float64\n",
      " 1   cinsiyet           303 non-null    object \n",
      " 2   gat                303 non-null    object \n",
      " 3   hkb                303 non-null    float64\n",
      " 4   kolestrol          303 non-null    float64\n",
      " 5   aks                303 non-null    int64  \n",
      " 6   ekg                303 non-null    object \n",
      " 7   eykh               303 non-null    float64\n",
      " 8   abe                303 non-null    int64  \n",
      " 9   st_d               303 non-null    float64\n",
      " 10  ste                303 non-null    object \n",
      " 11  bds                303 non-null    float64\n",
      " 12  talasemi           303 non-null    object \n",
      " 13  kalp_rahatsizligi  303 non-null    int64  \n",
      "dtypes: float64(6), int64(3), object(5)\n",
      "memory usage: 33.3+ KB\n"
     ]
    }
   ],
   "source": [
    "data.info()"
   ]
  },
  {
   "cell_type": "code",
   "execution_count": 11,
   "metadata": {},
   "outputs": [],
   "source": [
    "le=LabelEncoder()\n",
    "data[\"cinsiyet\"]=le.fit_transform(data[\"cinsiyet\"])\n",
    "data[\"gat\"]=le.fit_transform(data[\"gat\"])\n",
    "data[\"ekg\"]=le.fit_transform(data[\"ekg\"])\n",
    "data[\"ste\"]=le.fit_transform(data[\"ste\"])\n",
    "data[\"talasemi\"]=le.fit_transform(data[\"talasemi\"])\n"
   ]
  },
  {
   "cell_type": "code",
   "execution_count": 12,
   "metadata": {},
   "outputs": [
    {
     "name": "stdout",
     "output_type": "stream",
     "text": [
      "<class 'pandas.core.frame.DataFrame'>\n",
      "RangeIndex: 303 entries, 0 to 302\n",
      "Data columns (total 14 columns):\n",
      " #   Column             Non-Null Count  Dtype  \n",
      "---  ------             --------------  -----  \n",
      " 0   yas                303 non-null    float64\n",
      " 1   cinsiyet           303 non-null    int64  \n",
      " 2   gat                303 non-null    int64  \n",
      " 3   hkb                303 non-null    float64\n",
      " 4   kolestrol          303 non-null    float64\n",
      " 5   aks                303 non-null    int64  \n",
      " 6   ekg                303 non-null    int64  \n",
      " 7   eykh               303 non-null    float64\n",
      " 8   abe                303 non-null    int64  \n",
      " 9   st_d               303 non-null    float64\n",
      " 10  ste                303 non-null    int64  \n",
      " 11  bds                303 non-null    float64\n",
      " 12  talasemi           303 non-null    int64  \n",
      " 13  kalp_rahatsizligi  303 non-null    int64  \n",
      "dtypes: float64(6), int64(8)\n",
      "memory usage: 33.3 KB\n"
     ]
    }
   ],
   "source": [
    "data.info()"
   ]
  },
  {
   "cell_type": "markdown",
   "metadata": {},
   "source": [
    "Ayrkırı veriler sayısal verinin istatistik değerlerinden yararlanılarak bulunur. "
   ]
  },
  {
   "cell_type": "code",
   "execution_count": 13,
   "metadata": {},
   "outputs": [
    {
     "data": {
      "image/png": "[encoded data removed]",
      "text/plain": [
       "<Figure size 432x288 with 1 Axes>"
      ]
     },
     "metadata": {
      "needs_background": "light"
     },
     "output_type": "display_data"
    }
   ],
   "source": [
    "sns.boxplot(data=data,y=\"kolestrol\")\n",
    "plt.show()"
   ]
  },
  {
   "cell_type": "code",
   "execution_count": 14,
   "metadata": {},
   "outputs": [
    {
     "data": {
      "text/plain": [
       "count    303.000000\n",
       "mean     246.693069\n",
       "std       51.776918\n",
       "min      126.000000\n",
       "25%      211.000000\n",
       "50%      241.000000\n",
       "75%      275.000000\n",
       "max      564.000000\n",
       "Name: kolestrol, dtype: float64"
      ]
     },
     "execution_count": 14,
     "metadata": {},
     "output_type": "execute_result"
    }
   ],
   "source": [
    "data.kolestrol.describe()"
   ]
  },
  {
   "cell_type": "code",
   "execution_count": 19,
   "metadata": {},
   "outputs": [
    {
     "data": {
      "text/plain": [
       "(115.0, 371.0)"
      ]
     },
     "execution_count": 19,
     "metadata": {},
     "output_type": "execute_result"
    }
   ],
   "source": [
    "q1=data.kolestrol.describe()[4]\n",
    "q3=data.kolestrol.describe()[6]\n",
    "iqr=q3-q1\n",
    "min_k=q1-1.5*iqr\n",
    "max_k=q3+1.5*iqr\n",
    "min_k,max_k"
   ]
  },
  {
   "cell_type": "code",
   "execution_count": 20,
   "metadata": {},
   "outputs": [
    {
     "name": "stdout",
     "output_type": "stream",
     "text": [
      "<class 'pandas.core.frame.DataFrame'>\n",
      "Int64Index: 298 entries, 0 to 302\n",
      "Data columns (total 14 columns):\n",
      " #   Column             Non-Null Count  Dtype  \n",
      "---  ------             --------------  -----  \n",
      " 0   yas                298 non-null    float64\n",
      " 1   cinsiyet           298 non-null    int64  \n",
      " 2   gat                298 non-null    int64  \n",
      " 3   hkb                298 non-null    float64\n",
      " 4   kolestrol          298 non-null    float64\n",
      " 5   aks                298 non-null    int64  \n",
      " 6   ekg                298 non-null    int64  \n",
      " 7   eykh               298 non-null    float64\n",
      " 8   abe                298 non-null    int64  \n",
      " 9   st_d               298 non-null    float64\n",
      " 10  ste                298 non-null    int64  \n",
      " 11  bds                298 non-null    float64\n",
      " 12  talasemi           298 non-null    int64  \n",
      " 13  kalp_rahatsizligi  298 non-null    int64  \n",
      "dtypes: float64(6), int64(8)\n",
      "memory usage: 34.9 KB\n"
     ]
    }
   ],
   "source": [
    "# pandas veri filtreleme\n",
    "data=data[(data[\"kolestrol\"]>=min_k)&(data[\"kolestrol\"]<=max_k)]\n",
    "data.info()"
   ]
  },
  {
   "cell_type": "code",
   "execution_count": 95,
   "metadata": {},
   "outputs": [],
   "source": [
    "X = data.iloc[:,0:13].values\n",
    "X= minmax_scale(X,feature_range=(0,1))\n",
    "y = data.iloc[:,13].values"
   ]
  },
  {
   "cell_type": "code",
   "execution_count": 96,
   "metadata": {},
   "outputs": [],
   "source": [
    "x_train,x_test,y_train,y_test=train_test_split(X,y,test_size=0.2,random_state=22)"
   ]
  },
  {
   "cell_type": "code",
   "execution_count": 102,
   "metadata": {},
   "outputs": [
    {
     "data": {
      "text/plain": [
       "KNeighborsClassifier(n_neighbors=20)"
      ]
     },
     "execution_count": 102,
     "metadata": {},
     "output_type": "execute_result"
    }
   ],
   "source": [
    "knn = KNeighborsClassifier(n_neighbors=20)\n",
    "knn.fit(x_train,y_train)"
   ]
  },
  {
   "cell_type": "code",
   "execution_count": 103,
   "metadata": {},
   "outputs": [],
   "source": [
    "# y_pred test verilerinden modelin verdiği cevaplardır\n",
    "y_pred = knn.predict(x_test)"
   ]
  },
  {
   "cell_type": "code",
   "execution_count": 104,
   "metadata": {},
   "outputs": [
    {
     "data": {
      "image/png": "[encoded data removed]",
      "text/plain": [
       "<Figure size 432x288 with 2 Axes>"
      ]
     },
     "metadata": {
      "needs_background": "light"
     },
     "output_type": "display_data"
    },
    {
     "name": "stdout",
     "output_type": "stream",
     "text": [
      "0.85\n"
     ]
    }
   ],
   "source": [
    "# y_pred ile y_test verilerini karşılaştıralım\n",
    "cfm = confusion_matrix(y_true=y_test,y_pred=y_pred,labels=[0,1])\n",
    "sns.heatmap(data=cfm,annot=True)\n",
    "plt.show()\n",
    "print(knn.score(x_test,y_test))"
   ]
  },
  {
   "cell_type": "code",
   "execution_count": 100,
   "metadata": {},
   "outputs": [
    {
     "data": {
      "text/html": [
       "<div>\n",
       "<style scoped>\n",
       "    .dataframe tbody tr th:only-of-type {\n",
       "        vertical-align: middle;\n",
       "    }\n",
       "\n",
       "    .dataframe tbody tr th {\n",
       "        vertical-align: top;\n",
       "    }\n",
       "\n",
       "    .dataframe thead th {\n",
       "        text-align: right;\n",
       "    }\n",
       "</style>\n",
       "<table border=\"1\" class=\"dataframe\">\n",
       "  <thead>\n",
       "    <tr style=\"text-align: right;\">\n",
       "      <th></th>\n",
       "      <th>yas</th>\n",
       "      <th>cinsiyet</th>\n",
       "      <th>gat</th>\n",
       "      <th>hkb</th>\n",
       "      <th>kolestrol</th>\n",
       "      <th>aks</th>\n",
       "      <th>ekg</th>\n",
       "      <th>eykh</th>\n",
       "      <th>abe</th>\n",
       "      <th>st_d</th>\n",
       "      <th>ste</th>\n",
       "      <th>bds</th>\n",
       "      <th>talasemi</th>\n",
       "      <th>kalp_rahatsizligi</th>\n",
       "    </tr>\n",
       "  </thead>\n",
       "  <tbody>\n",
       "    <tr>\n",
       "      <th>count</th>\n",
       "      <td>298.000000</td>\n",
       "      <td>298.000000</td>\n",
       "      <td>298.000000</td>\n",
       "      <td>298.000000</td>\n",
       "      <td>298.000000</td>\n",
       "      <td>298.000000</td>\n",
       "      <td>298.000000</td>\n",
       "      <td>298.000000</td>\n",
       "      <td>298.000000</td>\n",
       "      <td>298.000000</td>\n",
       "      <td>298.000000</td>\n",
       "      <td>298.000000</td>\n",
       "      <td>298.000000</td>\n",
       "      <td>298.000000</td>\n",
       "    </tr>\n",
       "    <tr>\n",
       "      <th>mean</th>\n",
       "      <td>54.302013</td>\n",
       "      <td>0.308725</td>\n",
       "      <td>1.040268</td>\n",
       "      <td>131.620805</td>\n",
       "      <td>243.479866</td>\n",
       "      <td>0.147651</td>\n",
       "      <td>1.466443</td>\n",
       "      <td>149.506711</td>\n",
       "      <td>0.328859</td>\n",
       "      <td>1.025168</td>\n",
       "      <td>1.402685</td>\n",
       "      <td>0.654362</td>\n",
       "      <td>0.825503</td>\n",
       "      <td>0.459732</td>\n",
       "    </tr>\n",
       "    <tr>\n",
       "      <th>std</th>\n",
       "      <td>9.038790</td>\n",
       "      <td>0.462744</td>\n",
       "      <td>0.871387</td>\n",
       "      <td>17.675160</td>\n",
       "      <td>45.063008</td>\n",
       "      <td>0.355350</td>\n",
       "      <td>0.525973</td>\n",
       "      <td>23.049244</td>\n",
       "      <td>0.470589</td>\n",
       "      <td>1.156392</td>\n",
       "      <td>0.618671</td>\n",
       "      <td>0.927324</td>\n",
       "      <td>0.955097</td>\n",
       "      <td>0.499214</td>\n",
       "    </tr>\n",
       "    <tr>\n",
       "      <th>min</th>\n",
       "      <td>29.000000</td>\n",
       "      <td>0.000000</td>\n",
       "      <td>0.000000</td>\n",
       "      <td>94.000000</td>\n",
       "      <td>126.000000</td>\n",
       "      <td>0.000000</td>\n",
       "      <td>0.000000</td>\n",
       "      <td>71.000000</td>\n",
       "      <td>0.000000</td>\n",
       "      <td>0.000000</td>\n",
       "      <td>0.000000</td>\n",
       "      <td>0.000000</td>\n",
       "      <td>0.000000</td>\n",
       "      <td>0.000000</td>\n",
       "    </tr>\n",
       "    <tr>\n",
       "      <th>25%</th>\n",
       "      <td>47.250000</td>\n",
       "      <td>0.000000</td>\n",
       "      <td>0.000000</td>\n",
       "      <td>120.000000</td>\n",
       "      <td>211.000000</td>\n",
       "      <td>0.000000</td>\n",
       "      <td>1.000000</td>\n",
       "      <td>133.000000</td>\n",
       "      <td>0.000000</td>\n",
       "      <td>0.000000</td>\n",
       "      <td>1.000000</td>\n",
       "      <td>0.000000</td>\n",
       "      <td>0.000000</td>\n",
       "      <td>0.000000</td>\n",
       "    </tr>\n",
       "    <tr>\n",
       "      <th>50%</th>\n",
       "      <td>55.000000</td>\n",
       "      <td>0.000000</td>\n",
       "      <td>1.000000</td>\n",
       "      <td>130.000000</td>\n",
       "      <td>240.000000</td>\n",
       "      <td>0.000000</td>\n",
       "      <td>1.000000</td>\n",
       "      <td>152.000000</td>\n",
       "      <td>0.000000</td>\n",
       "      <td>0.650000</td>\n",
       "      <td>1.000000</td>\n",
       "      <td>0.000000</td>\n",
       "      <td>0.000000</td>\n",
       "      <td>0.000000</td>\n",
       "    </tr>\n",
       "    <tr>\n",
       "      <th>75%</th>\n",
       "      <td>60.750000</td>\n",
       "      <td>1.000000</td>\n",
       "      <td>1.000000</td>\n",
       "      <td>140.000000</td>\n",
       "      <td>273.750000</td>\n",
       "      <td>0.000000</td>\n",
       "      <td>2.000000</td>\n",
       "      <td>166.000000</td>\n",
       "      <td>1.000000</td>\n",
       "      <td>1.600000</td>\n",
       "      <td>2.000000</td>\n",
       "      <td>1.000000</td>\n",
       "      <td>2.000000</td>\n",
       "      <td>1.000000</td>\n",
       "    </tr>\n",
       "    <tr>\n",
       "      <th>max</th>\n",
       "      <td>77.000000</td>\n",
       "      <td>1.000000</td>\n",
       "      <td>3.000000</td>\n",
       "      <td>200.000000</td>\n",
       "      <td>360.000000</td>\n",
       "      <td>1.000000</td>\n",
       "      <td>2.000000</td>\n",
       "      <td>202.000000</td>\n",
       "      <td>1.000000</td>\n",
       "      <td>6.200000</td>\n",
       "      <td>2.000000</td>\n",
       "      <td>3.000000</td>\n",
       "      <td>2.000000</td>\n",
       "      <td>1.000000</td>\n",
       "    </tr>\n",
       "  </tbody>\n",
       "</table>\n",
       "</div>"
      ],
      "text/plain": [
       "              yas    cinsiyet         gat         hkb   kolestrol         aks  \\\n",
       "count  298.000000  298.000000  298.000000  298.000000  298.000000  298.000000   \n",
       "mean    54.302013    0.308725    1.040268  131.620805  243.479866    0.147651   \n",
       "std      9.038790    0.462744    0.871387   17.675160   45.063008    0.355350   \n",
       "min     29.000000    0.000000    0.000000   94.000000  126.000000    0.000000   \n",
       "25%     47.250000    0.000000    0.000000  120.000000  211.000000    0.000000   \n",
       "50%     55.000000    0.000000    1.000000  130.000000  240.000000    0.000000   \n",
       "75%     60.750000    1.000000    1.000000  140.000000  273.750000    0.000000   \n",
       "max     77.000000    1.000000    3.000000  200.000000  360.000000    1.000000   \n",
       "\n",
       "              ekg        eykh         abe        st_d         ste         bds  \\\n",
       "count  298.000000  298.000000  298.000000  298.000000  298.000000  298.000000   \n",
       "mean     1.466443  149.506711    0.328859    1.025168    1.402685    0.654362   \n",
       "std      0.525973   23.049244    0.470589    1.156392    0.618671    0.927324   \n",
       "min      0.000000   71.000000    0.000000    0.000000    0.000000    0.000000   \n",
       "25%      1.000000  133.000000    0.000000    0.000000    1.000000    0.000000   \n",
       "50%      1.000000  152.000000    0.000000    0.650000    1.000000    0.000000   \n",
       "75%      2.000000  166.000000    1.000000    1.600000    2.000000    1.000000   \n",
       "max      2.000000  202.000000    1.000000    6.200000    2.000000    3.000000   \n",
       "\n",
       "         talasemi  kalp_rahatsizligi  \n",
       "count  298.000000         298.000000  \n",
       "mean     0.825503           0.459732  \n",
       "std      0.955097           0.499214  \n",
       "min      0.000000           0.000000  \n",
       "25%      0.000000           0.000000  \n",
       "50%      0.000000           0.000000  \n",
       "75%      2.000000           1.000000  \n",
       "max      2.000000           1.000000  "
      ]
     },
     "execution_count": 100,
     "metadata": {},
     "output_type": "execute_result"
    }
   ],
   "source": [
    "data.describe()"
   ]
  },
  {
   "cell_type": "code",
   "execution_count": 101,
   "metadata": {},
   "outputs": [
    {
     "name": "stdout",
     "output_type": "stream",
     "text": [
      "3 komşu için accuracy=0.8\n",
      "4 komşu için accuracy=0.8166666666666667\n",
      "5 komşu için accuracy=0.7833333333333333\n",
      "6 komşu için accuracy=0.8166666666666667\n",
      "7 komşu için accuracy=0.8\n",
      "8 komşu için accuracy=0.8\n",
      "9 komşu için accuracy=0.8\n",
      "10 komşu için accuracy=0.8\n",
      "11 komşu için accuracy=0.8166666666666667\n",
      "12 komşu için accuracy=0.8333333333333334\n",
      "13 komşu için accuracy=0.8333333333333334\n",
      "14 komşu için accuracy=0.8333333333333334\n",
      "15 komşu için accuracy=0.8333333333333334\n",
      "16 komşu için accuracy=0.8333333333333334\n",
      "17 komşu için accuracy=0.8333333333333334\n",
      "18 komşu için accuracy=0.85\n",
      "19 komşu için accuracy=0.8333333333333334\n",
      "20 komşu için accuracy=0.85\n",
      "21 komşu için accuracy=0.8166666666666667\n",
      "22 komşu için accuracy=0.8166666666666667\n",
      "23 komşu için accuracy=0.8166666666666667\n",
      "24 komşu için accuracy=0.8166666666666667\n",
      "25 komşu için accuracy=0.8166666666666667\n",
      "26 komşu için accuracy=0.8333333333333334\n",
      "27 komşu için accuracy=0.8166666666666667\n",
      "28 komşu için accuracy=0.8333333333333334\n",
      "29 komşu için accuracy=0.8333333333333334\n"
     ]
    }
   ],
   "source": [
    "for k in range(3,30):\n",
    "    knn2=KNeighborsClassifier(n_neighbors=k)\n",
    "    knn2.fit(x_train,y_train)\n",
    "    skor=knn2.score(x_test,y_test)\n",
    "    print(f\"{k} komşu için accuracy={skor}\")\n"
   ]
  },
  {
   "cell_type": "code",
   "execution_count": 109,
   "metadata": {},
   "outputs": [
    {
     "name": "stdout",
     "output_type": "stream",
     "text": [
      "0.85\n",
      "0.8333333333333334\n"
     ]
    }
   ],
   "source": [
    "from sklearn.naive_bayes import GaussianNB,BernoulliNB\n",
    "gnb = GaussianNB()\n",
    "gnb.fit(x_train,y_train)\n",
    "bnb=BernoulliNB()\n",
    "bnb.fit(x_train,y_train)\n",
    "skor_nb=gnb.score(x_test,y_test)\n",
    "skor_bnb=bnb.score(x_test,y_test)\n",
    "print(f\"gausian nb={skor_nb}\")\n",
    "print(f\"bernolulli nb={skor_bnb}\")"
   ]
  },
  {
   "cell_type": "code",
   "execution_count": 112,
   "metadata": {},
   "outputs": [
    {
     "name": "stdout",
     "output_type": "stream",
     "text": [
      "destek vektörleri=0.8166666666666667\n"
     ]
    }
   ],
   "source": [
    "from sklearn.svm import SVC\n",
    "svm=SVC()\n",
    "svm.fit(x_train,y_train)\n",
    "skor_svm=svm.score(x_test,y_test)\n",
    "print(f\"destek vektörleri={skor_svm}\")"
   ]
  },
  {
   "cell_type": "code",
   "execution_count": 118,
   "metadata": {},
   "outputs": [
    {
     "name": "stdout",
     "output_type": "stream",
     "text": [
      "lojistik regresyon =0.8166666666666667\n"
     ]
    }
   ],
   "source": [
    "from sklearn.linear_model import LogisticRegression\n",
    "lr = LogisticRegression()\n",
    "lr.fit(x_train,y_train)\n",
    "skor_lr=lr.score(x_test,y_test)\n",
    "print(f\"lojistik regresyon ={skor_lr}\")"
   ]
  }
 ],
 "metadata": {
  "interpreter": {
   "hash": "916dbcbb3f70747c44a77c7bcd40155683ae19c65e1c03b4aa3499c5328201f1"
  },
  "kernelspec": {
   "display_name": "Python 3.9.2 64-bit",
   "name": "python3"
  },
  "language_info": {
   "codemirror_mode": {
    "name": "ipython",
    "version": 3
   },
   "file_extension": ".py",
   "mimetype": "text/x-python",
   "name": "python",
   "nbconvert_exporter": "python",
   "pygments_lexer": "ipython3",
   "version": "3.9.2"
  },
  "orig_nbformat": 4
 },
 "nbformat": 4,
 "nbformat_minor": 2
}
