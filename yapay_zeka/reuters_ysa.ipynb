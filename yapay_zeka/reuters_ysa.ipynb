{
 "cells": [
  {
   "cell_type": "code",
   "execution_count": 1,
   "metadata": {},
   "outputs": [
    {
     "name": "stderr",
     "output_type": "stream",
     "text": [
      "2021-12-11 12:09:23.046338: W tensorflow/stream_executor/platform/default/dso_loader.cc:64] Could not load dynamic library 'libcudart.so.11.0'; dlerror: libcudart.so.11.0: cannot open shared object file: No such file or directory\n",
      "2021-12-11 12:09:23.046402: I tensorflow/stream_executor/cuda/cudart_stub.cc:29] Ignore above cudart dlerror if you do not have a GPU set up on your machine.\n"
     ]
    }
   ],
   "source": [
    "from keras.datasets import reuters\n",
    "(train_data,train_labels),(test_data,test_labels)=reuters.load_data(num_words=10000)"
   ]
  },
  {
   "cell_type": "code",
   "execution_count": 3,
   "metadata": {},
   "outputs": [
    {
     "data": {
      "text/plain": [
       "8982"
      ]
     },
     "execution_count": 3,
     "metadata": {},
     "output_type": "execute_result"
    }
   ],
   "source": [
    "len(train_data)"
   ]
  },
  {
   "cell_type": "code",
   "execution_count": 28,
   "metadata": {},
   "outputs": [
    {
     "data": {
      "text/plain": [
       "[1,\n",
       " 1719,\n",
       " 40,\n",
       " 1667,\n",
       " 7,\n",
       " 10,\n",
       " 825,\n",
       " 7,\n",
       " 1932,\n",
       " 349,\n",
       " 229,\n",
       " 463,\n",
       " 52,\n",
       " 29,\n",
       " 6,\n",
       " 193,\n",
       " 70,\n",
       " 11,\n",
       " 82,\n",
       " 32,\n",
       " 70,\n",
       " 11,\n",
       " 420,\n",
       " 54,\n",
       " 586,\n",
       " 1298,\n",
       " 4,\n",
       " 37,\n",
       " 38,\n",
       " 309,\n",
       " 2276,\n",
       " 1080,\n",
       " 7,\n",
       " 4017,\n",
       " 8,\n",
       " 7,\n",
       " 10,\n",
       " 979,\n",
       " 223,\n",
       " 4,\n",
       " 223,\n",
       " 3942,\n",
       " 94,\n",
       " 147,\n",
       " 8,\n",
       " 203,\n",
       " 7,\n",
       " 4,\n",
       " 89,\n",
       " 544,\n",
       " 760,\n",
       " 55,\n",
       " 1332,\n",
       " 28,\n",
       " 63,\n",
       " 70,\n",
       " 11,\n",
       " 82,\n",
       " 19,\n",
       " 70,\n",
       " 11,\n",
       " 82,\n",
       " 488,\n",
       " 4,\n",
       " 4,\n",
       " 143,\n",
       " 6462,\n",
       " 862,\n",
       " 203,\n",
       " 22,\n",
       " 4,\n",
       " 214,\n",
       " 212,\n",
       " 55,\n",
       " 349,\n",
       " 28,\n",
       " 19,\n",
       " 44,\n",
       " 11,\n",
       " 82,\n",
       " 217,\n",
       " 6,\n",
       " 210,\n",
       " 649,\n",
       " 18,\n",
       " 82,\n",
       " 349,\n",
       " 13,\n",
       " 4,\n",
       " 48,\n",
       " 193,\n",
       " 29,\n",
       " 16,\n",
       " 8,\n",
       " 92,\n",
       " 2,\n",
       " 6,\n",
       " 181,\n",
       " 229,\n",
       " 814,\n",
       " 714,\n",
       " 9,\n",
       " 4513,\n",
       " 95,\n",
       " 989,\n",
       " 21,\n",
       " 4,\n",
       " 1624,\n",
       " 654,\n",
       " 4,\n",
       " 135,\n",
       " 1624,\n",
       " 654,\n",
       " 34,\n",
       " 349,\n",
       " 233,\n",
       " 2624,\n",
       " 18,\n",
       " 1525,\n",
       " 208,\n",
       " 6,\n",
       " 4,\n",
       " 1710,\n",
       " 302,\n",
       " 16,\n",
       " 8,\n",
       " 4,\n",
       " 223,\n",
       " 8,\n",
       " 6,\n",
       " 3166,\n",
       " 13,\n",
       " 4,\n",
       " 420,\n",
       " 1119,\n",
       " 6553,\n",
       " 5411,\n",
       " 40,\n",
       " 333,\n",
       " 43,\n",
       " 40,\n",
       " 4,\n",
       " 489,\n",
       " 5,\n",
       " 6767,\n",
       " 184,\n",
       " 144,\n",
       " 55,\n",
       " 2,\n",
       " 696,\n",
       " 5411,\n",
       " 23,\n",
       " 45,\n",
       " 477,\n",
       " 307,\n",
       " 5,\n",
       " 4,\n",
       " 229,\n",
       " 463,\n",
       " 40,\n",
       " 1296,\n",
       " 6,\n",
       " 126,\n",
       " 1417,\n",
       " 9,\n",
       " 1987,\n",
       " 40,\n",
       " 4168,\n",
       " 22,\n",
       " 9384,\n",
       " 9,\n",
       " 23,\n",
       " 1949,\n",
       " 339,\n",
       " 4,\n",
       " 223,\n",
       " 8,\n",
       " 16,\n",
       " 8,\n",
       " 7408,\n",
       " 2077,\n",
       " 7,\n",
       " 509,\n",
       " 1373,\n",
       " 5,\n",
       " 598,\n",
       " 7,\n",
       " 4,\n",
       " 585,\n",
       " 83,\n",
       " 407,\n",
       " 40,\n",
       " 1007,\n",
       " 4,\n",
       " 820,\n",
       " 51,\n",
       " 989,\n",
       " 21,\n",
       " 2,\n",
       " 1287,\n",
       " 7,\n",
       " 9976,\n",
       " 23,\n",
       " 2,\n",
       " 17,\n",
       " 12]"
      ]
     },
     "execution_count": 28,
     "metadata": {},
     "output_type": "execute_result"
    }
   ],
   "source": [
    "len(test_data)\n",
    "type(test_data)\n",
    "test_data.ndim\n",
    "test_data[12]"
   ]
  },
  {
   "cell_type": "code",
   "execution_count": 2,
   "metadata": {},
   "outputs": [],
   "source": [
    "word_index= reuters.get_word_index()"
   ]
  },
  {
   "cell_type": "code",
   "execution_count": null,
   "metadata": {},
   "outputs": [],
   "source": [
    "len(word_index)\n",
    "type(word_index)\n",
    "word_index"
   ]
  },
  {
   "cell_type": "code",
   "execution_count": 3,
   "metadata": {},
   "outputs": [],
   "source": [
    "reverse_word_index=dict([(value,key) for (key,value) in word_index.items()])"
   ]
  },
  {
   "cell_type": "code",
   "execution_count": null,
   "metadata": {},
   "outputs": [],
   "source": [
    "reverse_word_index"
   ]
  },
  {
   "cell_type": "code",
   "execution_count": 4,
   "metadata": {},
   "outputs": [],
   "source": [
    "decoded_newswire =' '.join([reverse_word_index.get(i-3,\"?\") for i in train_data[12]])"
   ]
  },
  {
   "cell_type": "code",
   "execution_count": 30,
   "metadata": {},
   "outputs": [
    {
     "data": {
      "text/plain": [
       "'? ? corp said it reached an agreement in principal covering the acquisition of the company by privately held ? financial corp the agreement calls for ? to make a self tender offer for all of its outstanding stock at a price of 22 dlrs per share in cash ? headquartered in los angeles develops manages and ? real estate ? also said reuter 3'"
      ]
     },
     "execution_count": 30,
     "metadata": {},
     "output_type": "execute_result"
    }
   ],
   "source": [
    "decoded_newswire\n",
    "# type(decoded_newswire)\n",
    "# len(decoded_newswire)"
   ]
  },
  {
   "cell_type": "code",
   "execution_count": 5,
   "metadata": {},
   "outputs": [],
   "source": [
    "import numpy as np\n",
    "def vectorize_sequences(sequences,dimension=10000):\n",
    "    results = np.zeros((len(sequences),dimension))\n",
    "    for i,sequence in enumerate(sequences):\n",
    "        results[i,sequence]=1.\n",
    "    return results\n",
    "    "
   ]
  },
  {
   "cell_type": "code",
   "execution_count": 6,
   "metadata": {},
   "outputs": [],
   "source": [
    "x_train = vectorize_sequences(train_data)"
   ]
  },
  {
   "cell_type": "code",
   "execution_count": 7,
   "metadata": {},
   "outputs": [
    {
     "data": {
      "text/plain": [
       "array([0., 1., 1., ..., 0., 0., 0.])"
      ]
     },
     "execution_count": 7,
     "metadata": {},
     "output_type": "execute_result"
    }
   ],
   "source": [
    "x_train[12]"
   ]
  },
  {
   "cell_type": "code",
   "execution_count": 8,
   "metadata": {},
   "outputs": [],
   "source": [
    "x_test=vectorize_sequences(test_data)"
   ]
  },
  {
   "cell_type": "code",
   "execution_count": 36,
   "metadata": {},
   "outputs": [
    {
     "data": {
      "text/plain": [
       "(2246, 10000)"
      ]
     },
     "execution_count": 36,
     "metadata": {},
     "output_type": "execute_result"
    }
   ],
   "source": [
    "x_test"
   ]
  },
  {
   "cell_type": "code",
   "execution_count": 45,
   "metadata": {},
   "outputs": [
    {
     "data": {
      "text/plain": [
       "4"
      ]
     },
     "execution_count": 45,
     "metadata": {},
     "output_type": "execute_result"
    }
   ],
   "source": [
    "train_labels[5]"
   ]
  },
  {
   "cell_type": "code",
   "execution_count": 9,
   "metadata": {},
   "outputs": [],
   "source": [
    "def to_one_hot(labels,dimension=46):\n",
    "    results=np.zeros((len(labels),dimension))\n",
    "    for i,label in enumerate(labels):\n",
    "        results[i,label]=1.\n",
    "    return results"
   ]
  },
  {
   "cell_type": "code",
   "execution_count": 10,
   "metadata": {},
   "outputs": [],
   "source": [
    "one_hot_train_labels=to_one_hot(train_labels)"
   ]
  },
  {
   "cell_type": "code",
   "execution_count": 11,
   "metadata": {},
   "outputs": [],
   "source": [
    "one_hot_test_labels=to_one_hot(test_labels)\n"
   ]
  },
  {
   "cell_type": "code",
   "execution_count": null,
   "metadata": {},
   "outputs": [],
   "source": [
    "# from keras.utils.np_utils import to_categorical"
   ]
  },
  {
   "cell_type": "code",
   "execution_count": null,
   "metadata": {},
   "outputs": [],
   "source": [
    "one_hot_train_labels.shape\n"
   ]
  },
  {
   "cell_type": "code",
   "execution_count": 12,
   "metadata": {},
   "outputs": [],
   "source": [
    "from keras import models\n",
    "from keras import layers"
   ]
  },
  {
   "cell_type": "code",
   "execution_count": 13,
   "metadata": {},
   "outputs": [
    {
     "name": "stderr",
     "output_type": "stream",
     "text": [
      "2021-12-11 12:10:33.696290: W tensorflow/stream_executor/platform/default/dso_loader.cc:64] Could not load dynamic library 'libcuda.so.1'; dlerror: libcuda.so.1: cannot open shared object file: No such file or directory\n",
      "2021-12-11 12:10:33.696328: W tensorflow/stream_executor/cuda/cuda_driver.cc:269] failed call to cuInit: UNKNOWN ERROR (303)\n",
      "2021-12-11 12:10:33.696364: I tensorflow/stream_executor/cuda/cuda_diagnostics.cc:156] kernel driver does not appear to be running on this host (serkan-pc): /proc/driver/nvidia/version does not exist\n",
      "2021-12-11 12:10:33.708772: I tensorflow/core/platform/cpu_feature_guard.cc:151] This TensorFlow binary is optimized with oneAPI Deep Neural Network Library (oneDNN) to use the following CPU instructions in performance-critical operations:  AVX2 FMA\n",
      "To enable them in other operations, rebuild TensorFlow with the appropriate compiler flags.\n"
     ]
    }
   ],
   "source": [
    "model = models.Sequential()"
   ]
  },
  {
   "cell_type": "code",
   "execution_count": 14,
   "metadata": {},
   "outputs": [],
   "source": [
    "model.add(layers.Dense(64,activation=\"relu\",input_shape=(10000,)))\n",
    "model.add(layers.Dense(64,activation=\"relu\"))\n",
    "model.add(layers.Dense(46,activation=\"softmax\"))"
   ]
  },
  {
   "cell_type": "code",
   "execution_count": 15,
   "metadata": {},
   "outputs": [],
   "source": [
    "model.compile(optimizer=\"rmsprop\",loss=\"categorical_crossentropy\",metrics=['accuracy'])"
   ]
  },
  {
   "cell_type": "code",
   "execution_count": 16,
   "metadata": {},
   "outputs": [
    {
     "data": {
      "text/plain": [
       "(7982, 10000)"
      ]
     },
     "execution_count": 16,
     "metadata": {},
     "output_type": "execute_result"
    }
   ],
   "source": [
    "x_val = x_train[:1000]\n",
    "partial_x_train=x_train[1000:]\n",
    "partial_x_train.shape"
   ]
  },
  {
   "cell_type": "code",
   "execution_count": 17,
   "metadata": {},
   "outputs": [],
   "source": [
    "y_val = one_hot_train_labels[:1000]\n",
    "partial_y_train=one_hot_train_labels[1000:]"
   ]
  },
  {
   "cell_type": "code",
   "execution_count": 18,
   "metadata": {},
   "outputs": [
    {
     "name": "stderr",
     "output_type": "stream",
     "text": [
      "2021-12-11 12:10:48.998289: W tensorflow/core/framework/cpu_allocator_impl.cc:82] Allocation of 319280000 exceeds 10% of free system memory.\n"
     ]
    },
    {
     "name": "stdout",
     "output_type": "stream",
     "text": [
      "Epoch 1/2\n",
      "16/16 [==============================] - ETA: 0s - loss: 2.5478 - accuracy: 0.5296"
     ]
    },
    {
     "name": "stderr",
     "output_type": "stream",
     "text": [
      "2021-12-11 12:10:57.067152: W tensorflow/core/framework/cpu_allocator_impl.cc:82] Allocation of 40000000 exceeds 10% of free system memory.\n"
     ]
    },
    {
     "name": "stdout",
     "output_type": "stream",
     "text": [
      "16/16 [==============================] - 5s 134ms/step - loss: 2.5478 - accuracy: 0.5296 - val_loss: 1.6642 - val_accuracy: 0.6400\n",
      "Epoch 2/2\n",
      "16/16 [==============================] - 2s 95ms/step - loss: 1.3923 - accuracy: 0.7048 - val_loss: 1.3165 - val_accuracy: 0.7040\n"
     ]
    }
   ],
   "source": [
    "history=model.fit(partial_x_train,partial_y_train,batch_size=512,epochs=2,validation_data=(x_val,y_val))"
   ]
  }
 ],
 "metadata": {
  "interpreter": {
   "hash": "916dbcbb3f70747c44a77c7bcd40155683ae19c65e1c03b4aa3499c5328201f1"
  },
  "kernelspec": {
   "display_name": "Python 3.9.2 64-bit",
   "language": "python",
   "name": "python3"
  },
  "language_info": {
   "codemirror_mode": {
    "name": "ipython",
    "version": 3
   },
   "file_extension": ".py",
   "mimetype": "text/x-python",
   "name": "python",
   "nbconvert_exporter": "python",
   "pygments_lexer": "ipython3",
   "version": "3.9.2"
  },
  "orig_nbformat": 4
 },
 "nbformat": 4,
 "nbformat_minor": 2
}
